{
  "nbformat": 4,
  "nbformat_minor": 0,
  "metadata": {
    "colab": {
      "name": "Doc2Vec.ipynb",
      "provenance": [],
      "collapsed_sections": []
    },
    "kernelspec": {
      "name": "python3",
      "display_name": "Python 3"
    },
    "language_info": {
      "name": "python"
    }
  },
  "cells": [
    {
      "cell_type": "code",
      "metadata": {
        "id": "mEycSIdHw6MP"
      },
      "source": [
        "from sklearn import preprocessing\n",
        "from sklearn.linear_model import LinearRegression, LogisticRegression\n",
        "\n",
        "import torch\n",
        "from torch.utils.data import Dataset, DataLoader\n",
        "\n",
        "import gensim\n",
        "from gensim.models import FastText\n",
        "from gensim.models.doc2vec import Doc2Vec, TaggedDocument\n",
        "\n",
        "import numpy as np\n",
        "import re\n",
        "import pickle\n",
        "import os\n",
        "import spacy"
      ],
      "execution_count": null,
      "outputs": []
    },
    {
      "cell_type": "markdown",
      "metadata": {
        "id": "bkfLYIImNVfj"
      },
      "source": [
        "Загрузка и распаковка данных"
      ]
    },
    {
      "cell_type": "code",
      "metadata": {
        "id": "5lLErxdb3zNS"
      },
      "source": [
        "!wget -c https://ai.stanford.edu/~amaas/data/sentiment/aclImdb_v1.tar.gz\n",
        "!tar xvzf aclImdb_v1.tar.gz"
      ],
      "execution_count": null,
      "outputs": []
    },
    {
      "cell_type": "markdown",
      "metadata": {
        "id": "0eKVK7rK5PyV"
      },
      "source": [
        "Определение датасета для удобства обращения к данным"
      ]
    },
    {
      "cell_type": "code",
      "metadata": {
        "id": "k8RKFvW64AwN"
      },
      "source": [
        "class ReviewsDataset(Dataset):\n",
        "  def __init__(self, root_dir):\n",
        "    self.pos_reviews_dir = root_dir + \"/pos\"\n",
        "    self.pos_reviews_filenames = os.listdir(self.pos_reviews_dir)\n",
        "    self.neg_reviews_dir = root_dir + \"/neg\"\n",
        "    self.neg_reviews_filenames = os.listdir(self.neg_reviews_dir)\n",
        "\n",
        "  def __len__(self):\n",
        "    return len(self.pos_reviews_filenames) + len(self.neg_reviews_filenames)\n",
        "\n",
        "  def __getitem__(self, idx):\n",
        "    sample = {}\n",
        "    if idx % 2 == 0:\n",
        "      k = idx // 2\n",
        "      review_idx_filename = self.pos_reviews_filenames[k]        \n",
        "      id_and_rating = re.findall(r\"\\d+\", review_idx_filename)\n",
        "      with open(os.path.join(self.pos_reviews_dir, review_idx_filename), \"r\") as review:\n",
        "        data = review.readlines()\n",
        "    else:\n",
        "      k = (idx - 1) // 2\n",
        "      review_idx_filename = self.neg_reviews_filenames[k]\n",
        "      id_and_rating = re.findall(r\"\\d+\", review_idx_filename)\n",
        "      with open(os.path.join(self.neg_reviews_dir, review_idx_filename), \"r\") as review:\n",
        "        data = review.readlines()     \n",
        "    rating = int(id_and_rating[1]) - 1\n",
        "    data = str(data)\n",
        "    sample = {\"Text\": data, \"Rating\": rating}\n",
        "    return sample"
      ],
      "execution_count": null,
      "outputs": []
    },
    {
      "cell_type": "markdown",
      "metadata": {
        "id": "C8u0mRnqLb3y"
      },
      "source": [
        "Создание тренировочного и тестового датасетов"
      ]
    },
    {
      "cell_type": "code",
      "metadata": {
        "id": "9BKtoFkM4Dos"
      },
      "source": [
        "data_train = ReviewsDataset(\"/content/aclImdb/train\")\n",
        "data_test = ReviewsDataset(\"/content/aclImdb/test\")"
      ],
      "execution_count": null,
      "outputs": []
    },
    {
      "cell_type": "markdown",
      "metadata": {
        "id": "_NJkDmwRLiMk"
      },
      "source": [
        "Извлечение текстов отзывов и оценок отзывов"
      ]
    },
    {
      "cell_type": "code",
      "metadata": {
        "id": "qMlbu7of4bk4"
      },
      "source": [
        "reviews_texts_train = []\n",
        "reviews_rating_train = []\n",
        "\n",
        "reviews_texts_test = []\n",
        "reviews_rating_test = []\n",
        "\n",
        "for i in range(len(data_train)):\n",
        "    reviews_texts_train.append(data_train[i]['Text'])\n",
        "    reviews_rating_train.append(data_train[i]['Rating'])\n",
        "    reviews_texts_test.append(data_test[i]['Text'])\n",
        "    reviews_rating_test.append(data_test[i]['Rating'])"
      ],
      "execution_count": null,
      "outputs": []
    },
    {
      "cell_type": "markdown",
      "metadata": {
        "id": "ifBKXpaSLxy6"
      },
      "source": [
        "Подгрузка Spacy для предобработки текстов"
      ]
    },
    {
      "cell_type": "code",
      "metadata": {
        "id": "BO2gAFVX4Z4H"
      },
      "source": [
        "nlp = spacy.load('en')\n",
        "stop_words = nlp.Defaults.stop_words\n",
        "not_stop_words = set(['not'])\n",
        "stop_words -= not_stop_words"
      ],
      "execution_count": null,
      "outputs": []
    },
    {
      "cell_type": "markdown",
      "metadata": {
        "id": "I8aVxcxxMSn1"
      },
      "source": [
        "Лемматизация текстов; исключение из текстов слов, входящих в список стоп-слов"
      ]
    },
    {
      "cell_type": "code",
      "metadata": {
        "id": "vU11MlG14ijB"
      },
      "source": [
        "cleaned_tokenized_reviews_texts_train = []\n",
        "i = 0\n",
        "\n",
        "for text in reviews_texts_train:\n",
        "    tokenized_text = nlp(text)\n",
        "    cleaned_tokenized_text = [token.lemma_ for token in tokenized_text if token.lemma_ not in stop_words]\n",
        "    cleaned_tokenized_reviews_texts_train.append(cleaned_tokenized_text)\n",
        "    i += 1\n",
        "    print(i)"
      ],
      "execution_count": null,
      "outputs": []
    },
    {
      "cell_type": "code",
      "metadata": {
        "id": "GmsPgZbd4jBn"
      },
      "source": [
        "cleaned_tokenized_reviews_texts_test = []\n",
        "i = 0\n",
        "\n",
        "for text in reviews_texts_test:\n",
        "  tokenized_text = nlp(text)\n",
        "  cleaned_tokenized_text = [token.lemma_ for token in tokenized_text if token.lemma_ not in stop_words]\n",
        "  cleaned_tokenized_reviews_texts_test.append(cleaned_tokenized_text)\n",
        "  i += 1\n",
        "  print(i)"
      ],
      "execution_count": null,
      "outputs": []
    },
    {
      "cell_type": "markdown",
      "metadata": {
        "id": "fGiSRrwtMpz_"
      },
      "source": [
        "Формирование лейблов оценок и настроений текстов"
      ]
    },
    {
      "cell_type": "code",
      "metadata": {
        "id": "k8Al-1CQ3IAh"
      },
      "source": [
        "y_sentiment_train = [1 if rating >= 7 else 0 for rating in reviews_rating_train]\n",
        "y_sentiment_test = [1 if rating >= 7 else 0 for rating in reviews_rating_test]\n",
        "y_ratings_train = reviews_rating_train\n",
        "y_ratings_test = reviews_rating_test"
      ],
      "execution_count": null,
      "outputs": []
    },
    {
      "cell_type": "markdown",
      "metadata": {
        "id": "D-vr2y1929Va"
      },
      "source": [
        "Создание и тренировка модели FastText"
      ]
    },
    {
      "cell_type": "code",
      "metadata": {
        "id": "g698CmXTLmOq"
      },
      "source": [
        "model = FastText(window=5, min_count=1, max_vocab_size=3000)\n",
        "model.build_vocab(sentences=cleaned_tokenized_reviews_texts_train)\n",
        "model.train(sentences=cleaned_tokenized_reviews_texts_train, total_examples=len(cleaned_tokenized_reviews_texts_train), epochs=10)"
      ],
      "execution_count": null,
      "outputs": []
    },
    {
      "cell_type": "code",
      "metadata": {
        "id": "aiH6xBYDpyyT"
      },
      "source": [
        "X_train = [TaggedDocument(doc, [i]) for i, doc in enumerate(cleaned_tokenized_reviews_texts_train)]\n",
        "model = Doc2Vec(X_train, epochs=10)"
      ],
      "execution_count": null,
      "outputs": []
    },
    {
      "cell_type": "code",
      "metadata": {
        "id": "xpXwuXqVrO3F"
      },
      "source": [
        "X_train = [model.infer_vector(text) for text in cleaned_tokenized_reviews_texts_train]"
      ],
      "execution_count": null,
      "outputs": []
    },
    {
      "cell_type": "code",
      "metadata": {
        "id": "qRrRcwgcrdt_"
      },
      "source": [
        "X_test = [model.infer_vector(text) for text in cleaned_tokenized_reviews_texts_test]"
      ],
      "execution_count": null,
      "outputs": []
    },
    {
      "cell_type": "markdown",
      "metadata": {
        "id": "BcbFjUlf2T_0"
      },
      "source": [
        "Создание и фит предобработчика данных"
      ]
    },
    {
      "cell_type": "code",
      "metadata": {
        "id": "p1N7hXvGz9TW"
      },
      "source": [
        "scaler = preprocessing.StandardScaler()\n",
        "scaler = scaler.fit(X_train)\n",
        "X_scaled_train = scaler.transform(X_train)\n",
        "X_scaled_test = scaler.transform(X_test)"
      ],
      "execution_count": null,
      "outputs": []
    },
    {
      "cell_type": "markdown",
      "metadata": {
        "id": "0dBylEoO2pRp"
      },
      "source": [
        "Тренировка логистической и линейной регрессий"
      ]
    },
    {
      "cell_type": "code",
      "metadata": {
        "id": "EnPEyXMN6L4m"
      },
      "source": [
        "clf = LogisticRegression(max_iter=250)\n",
        "clf = clf.fit(X_scaled_train, y_sentiment_train)"
      ],
      "execution_count": null,
      "outputs": []
    },
    {
      "cell_type": "code",
      "metadata": {
        "id": "t-AodtRM7O4U"
      },
      "source": [
        "reg = LinearRegression()\n",
        "reg = reg.fit(X_scaled_train, y_ratings_train)"
      ],
      "execution_count": null,
      "outputs": []
    },
    {
      "cell_type": "markdown",
      "metadata": {
        "id": "aI2MinQY2wz7"
      },
      "source": [
        "Вывод метрик полученных моделей"
      ]
    },
    {
      "cell_type": "code",
      "metadata": {
        "colab": {
          "base_uri": "https://localhost:8080/"
        },
        "id": "7rI2OkcYDMv8",
        "outputId": "14729d99-d721-44fb-e822-a42e91fbedb6"
      },
      "source": [
        "print(\"Accuracy of predictions on test data: {}\".format(clf.score(X_scaled_test, y_sentiment_test)))\n",
        "print(\"R2 metrics on test data: {}\".format(reg.score(X_scaled_test, y_ratings_test)))"
      ],
      "execution_count": null,
      "outputs": [
        {
          "output_type": "stream",
          "name": "stdout",
          "text": [
            "Accuracy of predictions on test data: 0.78932\n",
            "R2 metrics on test data: 0.3961634427820562\n"
          ]
        }
      ]
    },
    {
      "cell_type": "markdown",
      "metadata": {
        "id": "wHldTAru20I5"
      },
      "source": [
        "Сохранение натренированных моделей"
      ]
    },
    {
      "cell_type": "code",
      "metadata": {
        "id": "kEowKdg3xRhL"
      },
      "source": [
        "pickle.dump(clf, open('clf_model.pkl','wb'))\n",
        "pickle.dump(reg, open('reg_model.pkl','wb'))\n",
        "pickle.dump(scaler, open('scaler_model.pkl','wb'))\n",
        "model.save('model_model')"
      ],
      "execution_count": null,
      "outputs": []
    }
  ]
}